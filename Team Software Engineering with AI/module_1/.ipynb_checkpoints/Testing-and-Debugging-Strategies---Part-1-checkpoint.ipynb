{
 "cells": [
  {
   "cell_type": "code",
   "execution_count": 1,
   "metadata": {
    "colab": {
     "base_uri": "https://localhost:8080/"
    },
    "executionInfo": {
     "elapsed": 426,
     "status": "ok",
     "timestamp": 1721452731497,
     "user": {
      "displayName": "Laurence Moroney",
      "userId": "17858265307580721507"
     },
     "user_tz": 420
    },
    "id": "TeANyrxDE3QN",
    "outputId": "f6600335-8d06-4fd9-f2d9-dcb4eab1355d"
   },
   "outputs": [
    {
     "name": "stdout",
     "output_type": "stream",
     "text": [
      " * Serving Flask app '__main__'\n",
      " * Debug mode: off\n"
     ]
    },
    {
     "name": "stderr",
     "output_type": "stream",
     "text": [
      "WARNING: This is a development server. Do not use it in a production deployment. Use a production WSGI server instead.\n",
      " * Running on all addresses (0.0.0.0)\n",
      " * Running on http://127.0.0.1:5000\n",
      " * Running on http://192.168.140.27:5000\n",
      "Press CTRL+C to quit\n"
     ]
    }
   ],
   "source": [
    "from flask import Flask, jsonify\n",
    "import threading\n",
    "\n",
    "app = Flask(__name__)\n",
    "\n",
    "@app.route('/api/greet/<name>', methods=['GET'])\n",
    "def greet(name):\n",
    "    return jsonify(message=f\"Hello, {name}!\")\n",
    "\n",
    "# To get it to work in Colab, use this line instead of the usual app.run\n",
    "threading.Thread(target=app.run, kwargs={'host':'0.0.0.0','port':5000}).start()"
   ]
  },
  {
   "cell_type": "code",
   "execution_count": 5,
   "metadata": {
    "colab": {
     "base_uri": "https://localhost:8080/"
    },
    "executionInfo": {
     "elapsed": 567,
     "status": "ok",
     "timestamp": 1721452743475,
     "user": {
      "displayName": "Laurence Moroney",
      "userId": "17858265307580721507"
     },
     "user_tz": 420
    },
    "id": "XDrmi6eQuHDQ",
    "outputId": "607fb416-f274-4de0-cd48-84c9b1f2d07f"
   },
   "outputs": [
    {
     "name": "stderr",
     "output_type": "stream",
     "text": [
      "192.168.140.27 - - [29/May/2025 16:26:25] \"GET /api/greet/laurence HTTP/1.1\" 200 -\n"
     ]
    },
    {
     "name": "stdout",
     "output_type": "stream",
     "text": [
      "200\n",
      "{\"message\":\"Hello, laurence!\"}\n",
      "\n"
     ]
    }
   ],
   "source": [
    "# When using the threading line above in Colab, you can now call your API in colab too!\n",
    "import requests\n",
    "req = requests.get(\"http://192.168.140.27:5000/api/greet/laurence\")\n",
    "print(req.status_code)\n",
    "print(req.text)"
   ]
  },
  {
   "cell_type": "code",
   "execution_count": 6,
   "metadata": {
    "colab": {
     "base_uri": "https://localhost:8080/"
    },
    "executionInfo": {
     "elapsed": 428,
     "status": "ok",
     "timestamp": 1721397472804,
     "user": {
      "displayName": "Laurence Moroney",
      "userId": "17858265307580721507"
     },
     "user_tz": 420
    },
    "id": "nQbJaE37OJ7O",
    "outputId": "20d94e51-39e5-4547-8ce3-74aa4f21dd39"
   },
   "outputs": [
    {
     "name": "stderr",
     "output_type": "stream",
     "text": [
      "test_basic_greeting (__main__.TestFlaskAPI) ... ok\n",
      "test_empty_name (__main__.TestFlaskAPI) ... ok\n",
      "test_html_injection (__main__.TestFlaskAPI) ... FAIL\n",
      "test_json_response_format (__main__.TestFlaskAPI) ... ok\n",
      "test_long_name (__main__.TestFlaskAPI) ... ok\n",
      "test_numeric_name (__main__.TestFlaskAPI) ... ok\n",
      "test_special_characters (__main__.TestFlaskAPI) ... ok\n",
      "test_url_encoding (__main__.TestFlaskAPI) ... ok\n",
      "\n",
      "======================================================================\n",
      "FAIL: test_html_injection (__main__.TestFlaskAPI)\n",
      "----------------------------------------------------------------------\n",
      "Traceback (most recent call last):\n",
      "  File \"C:\\Users\\aravi\\AppData\\Local\\Temp\\ipykernel_25624\\2604832547.py\", line 49, in test_html_injection\n",
      "    self.assertEqual(response.status_code, 200)\n",
      "AssertionError: 404 != 200\n",
      "\n",
      "----------------------------------------------------------------------\n",
      "Ran 8 tests in 0.043s\n",
      "\n",
      "FAILED (failures=1)\n"
     ]
    }
   ],
   "source": [
    "import unittest\n",
    "from flask.testing import FlaskClient\n",
    "\n",
    "class FlaskTestClient(FlaskClient):\n",
    "    def open(self, *args, **kwargs):\n",
    "        kwargs.setdefault('follow_redirects', True)\n",
    "        return super().open(*args, **kwargs)\n",
    "\n",
    "app.test_client_class = FlaskTestClient\n",
    "\n",
    "class TestFlaskAPI(unittest.TestCase):\n",
    "    def setUp(self):\n",
    "        self.app = app.test_client()\n",
    "        self.app.testing = True\n",
    "\n",
    "    def test_basic_greeting(self):\n",
    "        response = self.app.get('/api/greet/John')\n",
    "        self.assertEqual(response.status_code, 200)\n",
    "        self.assertEqual(response.json, {\"message\": \"Hello, John!\"})\n",
    "\n",
    "    def test_url_encoding(self):\n",
    "        response = self.app.get('/api/greet/John%20Doe')\n",
    "        self.assertEqual(response.status_code, 200)\n",
    "        self.assertEqual(response.json, {\"message\": \"Hello, John Doe!\"})\n",
    "\n",
    "    def test_special_characters(self):\n",
    "        response = self.app.get('/api/greet/@!$*')\n",
    "        self.assertEqual(response.status_code, 200)\n",
    "        self.assertEqual(response.json, {\"message\": \"Hello, @!$*!\"})\n",
    "\n",
    "    def test_empty_name(self):\n",
    "        response = self.app.get('/api/greet/')\n",
    "        self.assertEqual(response.status_code, 404)\n",
    "\n",
    "    def test_numeric_name(self):\n",
    "        response = self.app.get('/api/greet/12345')\n",
    "        self.assertEqual(response.status_code, 200)\n",
    "        self.assertEqual(response.json, {\"message\": \"Hello, 12345!\"})\n",
    "\n",
    "    def test_long_name(self):\n",
    "        long_name = \"a\" * 1000\n",
    "        response = self.app.get(f'/api/greet/{long_name}')\n",
    "        self.assertEqual(response.status_code, 200)\n",
    "        self.assertEqual(response.json, {\"message\": f\"Hello, {long_name}!\"})\n",
    "\n",
    "    def test_html_injection(self):\n",
    "        html_name = \"<script>alert('test')</script>\"\n",
    "        response = self.app.get(f'/api/greet/{html_name}')\n",
    "        self.assertEqual(response.status_code, 200)\n",
    "        self.assertEqual(response.json, {\"message\": f\"Hello, {html_name}!\"})\n",
    "\n",
    "    def test_json_response_format(self):\n",
    "        response = self.app.get('/api/greet/John')\n",
    "        self.assertEqual(response.headers['Content-Type'], 'application/json')\n",
    "        self.assertTrue(response.json)\n",
    "\n",
    "if __name__ == '__main__':\n",
    "    unittest.main(argv=[''], verbosity=2, exit=False)"
   ]
  },
  {
   "cell_type": "code",
   "execution_count": null,
   "metadata": {
    "id": "WSqCm8IbuRen"
   },
   "outputs": [],
   "source": []
  }
 ],
 "metadata": {
  "colab": {
   "provenance": []
  },
  "kernelspec": {
   "display_name": "TF_env",
   "language": "python",
   "name": "tf_env"
  },
  "language_info": {
   "codemirror_mode": {
    "name": "ipython",
    "version": 3
   },
   "file_extension": ".py",
   "mimetype": "text/x-python",
   "name": "python",
   "nbconvert_exporter": "python",
   "pygments_lexer": "ipython3",
   "version": "3.9.18"
  }
 },
 "nbformat": 4,
 "nbformat_minor": 4
}
